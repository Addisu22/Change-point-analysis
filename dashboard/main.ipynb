{
 "cells": [
  {
   "cell_type": "markdown",
   "id": "12dc35f4",
   "metadata": {},
   "source": [
    "# Task 3: Developing an Interactive Dashboard for Data Analysis Results"
   ]
  },
  {
   "cell_type": "code",
   "execution_count": null,
   "id": "da2329dc",
   "metadata": {},
   "outputs": [],
   "source": [
    "from flask import Flask, jsonify, request\n",
    "import pandas as pd\n",
    "\n",
    "app = Flask(__name__)\n",
    "\n",
    "# Load processed data\n",
    "df = pd.read_csv('brentoil_clean.csv', parse_dates=['Date'])\n",
    "\n",
    "@app.route('/api/data')\n",
    "def get_price_data():\n",
    "    start = request.args.get('start')\n",
    "    end = request.args.get('end')\n",
    "    data = df.copy()\n",
    "    if start and end:\n",
    "        data = data[(data['Date'] >= start) & (data['Date'] <= end)]\n",
    "    return jsonify(data.to_dict(orient='records'))\n",
    "\n",
    "@app.route('/api/events')\n",
    "def get_events():\n",
    "    events_df = df[df['Event'].notna()][['Date', 'Event']]\n",
    "    return jsonify(events_df.to_dict(orient='records'))\n",
    "\n",
    "@app.route('/api/model')\n",
    "def get_model_outputs():\n",
    "    model_df = df[df['ChangePoint'] == 1][['Date', 'Price', 'Volatility']]\n",
    "    return jsonify(model_df.to_dict(orient='records'))\n",
    "\n",
    "if __name__ == '__main__':\n",
    "    app.run(debug=True)\n"
   ]
  }
 ],
 "metadata": {
  "language_info": {
   "name": "python"
  }
 },
 "nbformat": 4,
 "nbformat_minor": 5
}
